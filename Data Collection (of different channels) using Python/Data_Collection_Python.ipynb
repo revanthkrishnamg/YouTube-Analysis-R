{
 "cells": [
  {
   "cell_type": "code",
   "execution_count": 1,
   "id": "d5855edc",
   "metadata": {},
   "outputs": [],
   "source": [
    "import requests\n",
    "import pandas as pd"
   ]
  },
  {
   "cell_type": "code",
   "execution_count": 2,
   "id": "1a37f865",
   "metadata": {},
   "outputs": [],
   "source": [
    "API_KEY = \"\"\n",
    "\n",
    "# Function to get the subscriber count of a channel\n",
    "def get_channel_subscriber_count(channel_id):\n",
    "    url = f\"https://www.googleapis.com/youtube/v3/channels?part=statistics&id={channel_id}&key={API_KEY}\"\n",
    "    response = requests.get(url).json()\n",
    "    try:\n",
    "        subscriber_count = response['items'][0]['statistics']['subscriberCount']\n",
    "    except (IndexError, KeyError):\n",
    "        subscriber_count = 'Not Available'\n",
    "    return subscriber_count\n",
    "\n",
    "# Function to get video details using the YouTube Data API\n",
    "def get_video_details(video_id):\n",
    "    data_url = f\"https://www.googleapis.com/youtube/v3/videos?id={video_id}&part=snippet,statistics&key={API_KEY}\"\n",
    "    response = requests.get(data_url).json()\n",
    "\n",
    "    snippet = response['items'][0]['snippet']\n",
    "    statistics = response['items'][0]['statistics']\n",
    "\n",
    "    video_details = {\n",
    "        'video_id': video_id,\n",
    "        'title': snippet['title'],\n",
    "        'description': snippet['description'],\n",
    "        'upload_date': snippet['publishedAt'],\n",
    "        'view_count': statistics['viewCount'],\n",
    "        'like_count': statistics.get('likeCount', 'Not Available'),\n",
    "        'comment_count': statistics.get('commentCount', 'Not Available')\n",
    "    }\n",
    "    return video_details\n",
    "\n",
    "# Function to fetch all videos from a channel\n",
    "def get_channel_videos(channel_id):\n",
    "    videos = []\n",
    "    page_token = \"\"\n",
    "    while True:\n",
    "        url = f\"https://www.googleapis.com/youtube/v3/search?key={API_KEY}&channelId={channel_id}&part=snippet,id&type=video&maxResults=50&pageToken={page_token}\"\n",
    "        response = requests.get(url).json()\n",
    "\n",
    "        for item in response['items']:\n",
    "            video_id = item['id']['videoId']\n",
    "            video_details = get_video_details(video_id)\n",
    "            videos.append(video_details)\n",
    "\n",
    "        page_token = response.get('nextPageToken', '')\n",
    "        if not page_token:\n",
    "            break\n",
    "    return pd.DataFrame(videos)"
   ]
  },
  {
   "cell_type": "code",
   "execution_count": 3,
   "id": "d709f65d",
   "metadata": {},
   "outputs": [
    {
     "name": "stdout",
     "output_type": "stream",
     "text": [
      "Fetching videos for channel: Carnage Codm\n",
      "DataFrame for Carnage Codm successfully exported to Carnage_Codm_Videos.csv\n",
      "Fetching videos for channel: 2noob4u Codm\n",
      "DataFrame for 2noob4u Codm successfully exported to 2noob4u_Codm_Videos.csv\n",
      "Fetching videos for channel: PrinceRez Codm\n",
      "DataFrame for PrinceRez Codm successfully exported to PrinceRez_Codm_Videos.csv\n",
      "Fetching videos for channel: Ednox Codm\n",
      "DataFrame for Ednox Codm successfully exported to Ednox_Codm_Videos.csv\n",
      "Channel subscriber counts successfully exported to Channel_Subscriber_Counts.csv\n"
     ]
    }
   ],
   "source": [
    "channels = {\n",
    "    \"Carnage Codm\": \"UCtuhZ4uWNnvM7BjX2RUeGuA\",\n",
    "    \"2noob4u Codm\": \"UCj_paku3Qlgm8daSGP0jYHg\",\n",
    "    \"PrinceRez Codm\": \"UCGKdHquSjUL3Ge2h-ZhgE2Q\",\n",
    "    \"Ednox Codm\": \"UC68OAM8s1eI998A9HGdXxyw\"\n",
    "}\n",
    "\n",
    "channel_info = []\n",
    "\n",
    "for name, channel_id in channels.items():\n",
    "    print(f\"Fetching videos for channel: {name}\")\n",
    "    df = get_channel_videos(channel_id)\n",
    "    csv_file_path = f\"{name.replace(' ', '_')}_Videos.csv\"\n",
    "    df.to_csv(csv_file_path, index=False)\n",
    "    print(f\"DataFrame for {name} successfully exported to {csv_file_path}\")\n",
    "\n",
    "    subscriber_count = get_channel_subscriber_count(channel_id)\n",
    "    channel_info.append({'Channel Name': name, 'Channel ID': channel_id, 'Subscriber Count': subscriber_count})\n",
    "\n",
    "channel_info_df = pd.DataFrame(channel_info)\n",
    "channel_info_df.to_csv('Channel_Subscriber_Counts.csv', index=False)\n",
    "print(\"Channel subscriber counts successfully exported to Channel_Subscriber_Counts.csv\")"
   ]
  }
 ],
 "metadata": {
  "kernelspec": {
   "display_name": "Python 3 (ipykernel)",
   "language": "python",
   "name": "python3"
  },
  "language_info": {
   "codemirror_mode": {
    "name": "ipython",
    "version": 3
   },
   "file_extension": ".py",
   "mimetype": "text/x-python",
   "name": "python",
   "nbconvert_exporter": "python",
   "pygments_lexer": "ipython3",
   "version": "3.11.5"
  }
 },
 "nbformat": 4,
 "nbformat_minor": 5
}
